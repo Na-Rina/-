{
  "cells": [
    {
      "cell_type": "code",
      "execution_count": null,
      "id": "ee1cdf17",
      "metadata": {
        "id": "ee1cdf17"
      },
      "outputs": [],
      "source": [
        "import pandas as pd\n",
        "import seaborn as sns\n",
        "import matplotlib.pyplot as plt\n",
        "import numpy as np\n",
        "from sklearn.model_selection import cross_val_score, train_test_split\n",
        "from sklearn.preprocessing import StandardScaler\n",
        "from sklearn.linear_model import LinearRegression, RidgeCV, LassoCV, ElasticNetCV\n",
        "from sklearn.metrics import mean_squared_error, make_scorer\n",
        "from scipy.stats import skew\n",
        "from IPython.display import display\n",
        "\n",
        "import pandas as pd\n",
        "import numpy as np\n",
        "import random\n",
        "import os\n",
        "\n",
        "from sklearn.preprocessing import MinMaxScaler\n",
        "from sklearn.preprocessing import LabelEncoder\n",
        "from sklearn.model_selection import train_test_split\n",
        "from sklearn.preprocessing import StandardScaler\n",
        "from sklearn.metrics import mean_squared_error\n",
        "from xgboost import XGBRegressor\n",
        "from sklearn.model_selection import GridSearchCV"
      ]
    },
    {
      "cell_type": "code",
      "execution_count": null,
      "id": "8923de0c",
      "metadata": {
        "id": "8923de0c"
      },
      "outputs": [],
      "source": [
        "train_df= pd.read_csv(r\"C:\\Users\\USER\\OneDrive - 한국외국어대학교\\바탕 화면\\2023 winter\\전력사용량 ai\\train.csv\")\n",
        "test_df= pd.read_csv(r\"C:\\Users\\USER\\OneDrive - 한국외국어대학교\\바탕 화면\\2023 winter\\전력사용량 ai\\test.csv\")\n",
        "building_df = pd.read_csv(r\"C:\\Users\\USER\\OneDrive - 한국외국어대학교\\바탕 화면\\2023 winter\\전력사용량 ai\\building_info.csv\")\n",
        "sample_df = pd.read_csv(r\"C:\\Users\\USER\\OneDrive - 한국외국어대학교\\바탕 화면\\2023 winter\\전력사용량 ai\\sample_submission.csv\")"
      ]
    },
    {
      "cell_type": "code",
      "execution_count": null,
      "id": "3a55c688",
      "metadata": {
        "id": "3a55c688"
      },
      "outputs": [],
      "source": [
        "#결측치\n",
        "train_df['강수량(mm)'].fillna(0, inplace=True)\n",
        "train_df['풍속(m/s)'].fillna(train_df['풍속(m/s)'].mean(), inplace=True)\n",
        "train_df['습도(%)'].fillna(train_df['습도(%)'].mean(), inplace=True)\n",
        "train_df['일조(hr)'].fillna(0, inplace=True)\n",
        "train_df['일사(MJ/m2)'].fillna(0, inplace=True)\n",
        "test_df['강수량(mm)'].fillna(0, inplace=True)\n",
        "test_df['일조(hr)'] = 0\n",
        "test_df['일사(MJ/m2)'] = 0"
      ]
    },
    {
      "cell_type": "code",
      "execution_count": null,
      "id": "fda55b08",
      "metadata": {
        "id": "fda55b08"
      },
      "outputs": [],
      "source": [
        "# 날짜 및 시간 특성 파생\n",
        "train_df['일시'] = pd.to_datetime(train_df['일시'], format='%Y%m%d %H')\n",
        "test_df['일시'] = pd.to_datetime(test_df['일시'], format='%Y%m%d %H')\n",
        "train_df['연'] = train_df['일시'].dt.year\n",
        "train_df['월'] = train_df['일시'].dt.month\n",
        "train_df['일'] = train_df['일시'].dt.day\n",
        "train_df['시간'] = train_df['일시'].dt.hour\n",
        "test_df['연'] = test_df['일시'].dt.year\n",
        "test_df['월'] = test_df['일시'].dt.month\n",
        "test_df['일'] = test_df['일시'].dt.day\n",
        "test_df['시간'] = test_df['일시'].dt.hour"
      ]
    },
    {
      "cell_type": "code",
      "execution_count": null,
      "id": "87594e91",
      "metadata": {
        "id": "87594e91"
      },
      "outputs": [],
      "source": [
        "# 필요하지 않은 컬럼 제거\n",
        "train_df.drop(columns=['num_date_time', '일시'], inplace=True)\n",
        "test_df.drop(columns=['num_date_time', '일시'], inplace=True)"
      ]
    },
    {
      "cell_type": "code",
      "execution_count": null,
      "id": "a31c3e10",
      "metadata": {
        "id": "a31c3e10"
      },
      "outputs": [],
      "source": [
        "# 특성과 라벨 분리\n",
        "X_train = train_df.drop(columns=['전력소비량(kWh)'])\n",
        "y_train = train_df['전력소비량(kWh)']"
      ]
    },
    {
      "cell_type": "code",
      "execution_count": null,
      "id": "23c14381",
      "metadata": {
        "id": "23c14381"
      },
      "outputs": [],
      "source": [
        "# 데이터 정규화\n",
        "scaler = StandardScaler()\n",
        "X_train_scaled = scaler.fit_transform(X_train)\n",
        "X_test_scaled = scaler.transform(test_df)"
      ]
    },
    {
      "cell_type": "code",
      "execution_count": null,
      "id": "77707a56",
      "metadata": {
        "id": "77707a56"
      },
      "outputs": [],
      "source": [
        "# 데이터 분할 (훈련 및 검증 세트)\n",
        "X_train_split, X_val_split, y_train_split, y_val_split = train_test_split(X_train_scaled, y_train, test_size=0.2, random_state=42)"
      ]
    },
    {
      "cell_type": "code",
      "execution_count": null,
      "id": "d1470927",
      "metadata": {
        "id": "d1470927"
      },
      "outputs": [],
      "source": [
        "# 하이퍼파라미터 그리드 정의\n",
        "param_grid = {\n",
        "    'learning_rate': [0.01, 0.05, 0.1],\n",
        "    'max_depth': [3, 5, 7],\n",
        "    'n_estimators': [5000],\n",
        "    'subsample': [0.7, 0.9],\n",
        "    'colsample_bytree': [0.7, 0.9],\n",
        "}"
      ]
    },
    {
      "cell_type": "code",
      "execution_count": null,
      "id": "33a276ac",
      "metadata": {
        "id": "33a276ac"
      },
      "outputs": [],
      "source": [
        "# XGBoost 모델 생성\n",
        "xgb_model = XGBRegressor(objective='reg:squarederror', random_state=42)"
      ]
    },
    {
      "cell_type": "code",
      "execution_count": null,
      "id": "50fddadc",
      "metadata": {
        "id": "50fddadc"
      },
      "outputs": [],
      "source": [
        "# 그리드 서치 객체 생성\n",
        "grid_search = GridSearchCV(estimator=xgb_model, param_grid=param_grid,\n",
        "                           cv=3, n_jobs=-1, verbose=2, scoring='neg_root_mean_squared_error')"
      ]
    },
    {
      "cell_type": "code",
      "execution_count": null,
      "id": "ef638ced",
      "metadata": {
        "id": "ef638ced"
      },
      "outputs": [],
      "source": [
        "# 그리드 서치 수행\n",
        "grid_search.fit(X_train_split, y_train_split, eval_set=[(X_val_split, y_val_split)], early_stopping_rounds=10, verbose=True)"
      ]
    },
    {
      "cell_type": "code",
      "execution_count": null,
      "id": "7cee4251",
      "metadata": {
        "id": "7cee4251"
      },
      "outputs": [],
      "source": [
        "# 최적의 하이퍼파라미터 출력\n",
        "print(\"Best Hyperparameters:\", grid_search.best_params_)"
      ]
    },
    {
      "cell_type": "code",
      "execution_count": null,
      "id": "e76318ae",
      "metadata": {
        "id": "e76318ae"
      },
      "outputs": [],
      "source": [
        "# 검증 세트에서 최적 모델의 성능 평가\n",
        "y_val_pred_best = grid_search.best_estimator_.predict(X_val_split)\n",
        "val_rmse_best = np.sqrt(mean_squared_error(y_val_split, y_val_pred_best))\n",
        "print(\"Validation RMSE with Best Model:\", val_rmse_best)"
      ]
    },
    {
      "cell_type": "code",
      "execution_count": null,
      "id": "ea0be2f2",
      "metadata": {
        "id": "ea0be2f2"
      },
      "outputs": [],
      "source": [
        "# test 데이터에 대한 예측\n",
        "y_test_pred_best = grid_search.best_estimator_.predict(X_test_scaled)\n",
        "test_predictions_best = pd.DataFrame({'전력소비량(kWh)': y_test_pred_best})\n",
        "test_predictions_best.to_csv('test_predictions_best.csv', index=False)"
      ]
    },
    {
      "cell_type": "code",
      "execution_count": null,
      "id": "84ed675e",
      "metadata": {
        "id": "84ed675e"
      },
      "outputs": [],
      "source": []
    }
  ],
  "metadata": {
    "kernelspec": {
      "display_name": "Python 3 (ipykernel)",
      "language": "python",
      "name": "python3"
    },
    "language_info": {
      "codemirror_mode": {
        "name": "ipython",
        "version": 3
      },
      "file_extension": ".py",
      "mimetype": "text/x-python",
      "name": "python",
      "nbconvert_exporter": "python",
      "pygments_lexer": "ipython3",
      "version": "3.9.13"
    },
    "toc": {
      "base_numbering": 1,
      "nav_menu": {},
      "number_sections": true,
      "sideBar": true,
      "skip_h1_title": false,
      "title_cell": "Table of Contents",
      "title_sidebar": "Contents",
      "toc_cell": false,
      "toc_position": {},
      "toc_section_display": true,
      "toc_window_display": false
    },
    "varInspector": {
      "cols": {
        "lenName": 16,
        "lenType": 16,
        "lenVar": 40
      },
      "kernels_config": {
        "python": {
          "delete_cmd_postfix": "",
          "delete_cmd_prefix": "del ",
          "library": "var_list.py",
          "varRefreshCmd": "print(var_dic_list())"
        },
        "r": {
          "delete_cmd_postfix": ") ",
          "delete_cmd_prefix": "rm(",
          "library": "var_list.r",
          "varRefreshCmd": "cat(var_dic_list()) "
        }
      },
      "types_to_exclude": [
        "module",
        "function",
        "builtin_function_or_method",
        "instance",
        "_Feature"
      ],
      "window_display": false
    },
    "colab": {
      "provenance": []
    }
  },
  "nbformat": 4,
  "nbformat_minor": 5
}